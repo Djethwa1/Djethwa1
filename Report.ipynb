{
 "cells": [
  {
   "cell_type": "code",
   "execution_count": 2,
   "metadata": {
    "id": "h0LVvvnfJsg5"
   },
   "outputs": [
    {
     "name": "stderr",
     "output_type": "stream",
     "text": [
      "C:\\Users\\DEVESH\\AppData\\Local\\Temp\\ipykernel_4424\\3422465919.py:2: DeprecationWarning: \n",
      "Pyarrow will become a required dependency of pandas in the next major release of pandas (pandas 3.0),\n",
      "(to allow more performant data types, such as the Arrow string type, and better interoperability with other libraries)\n",
      "but was not found to be installed on your system.\n",
      "If this would cause problems for you,\n",
      "please provide us feedback at https://github.com/pandas-dev/pandas/issues/54466\n",
      "        \n",
      "  import pandas as pd\n"
     ]
    }
   ],
   "source": [
    "# Import pandas\n",
    "import pandas as pd"
   ]
  },
  {
   "cell_type": "code",
   "execution_count": 3,
   "metadata": {
    "id": "rv2oLRnPK36J",
    "scrolled": true
   },
   "outputs": [
    {
     "name": "stdout",
     "output_type": "stream",
     "text": [
      "       Balance   Income  Limit  Rating  Cards  Age  Education  Gender Student  \\\n",
      "0    12.240798   14.891   3606     283      2   34         11    Male      No   \n",
      "1    23.283334  106.025   6645     483      3   82         15  Female     Yes   \n",
      "2    22.530409  104.593   7075     514      4   71         11    Male      No   \n",
      "3    27.652811  148.924   9504     681      3   36         11  Female      No   \n",
      "4    16.893978   55.882   4897     357      2   68         16    Male      No   \n",
      "..         ...      ...    ...     ...    ...  ...        ...     ...     ...   \n",
      "395   8.764984   12.096   4100     307      3   32         13    Male      No   \n",
      "396   9.943838   13.364   3838     296      5   65         17    Male      No   \n",
      "397  14.882078   57.872   4171     321      5   67         12  Female      No   \n",
      "398  12.001071   37.728   2525     192      1   44         13    Male      No   \n",
      "399  10.159598   18.701   5524     415      5   64          7  Female      No   \n",
      "\n",
      "    Married         Ethnicity  \n",
      "0       Yes         Caucasian  \n",
      "1       Yes             Asian  \n",
      "2        No             Asian  \n",
      "3        No             Asian  \n",
      "4       Yes         Caucasian  \n",
      "..      ...               ...  \n",
      "395     Yes         Caucasian  \n",
      "396      No  African American  \n",
      "397     Yes         Caucasian  \n",
      "398     Yes         Caucasian  \n",
      "399      No             Asian  \n",
      "\n",
      "[400 rows x 11 columns]\n"
     ]
    }
   ],
   "source": [
    "# Create a DataFrame with balance.txt\n",
    "df = pd.read_csv('balance.txt' , sep = ' ')\n",
    "print(df)"
   ]
  },
  {
   "cell_type": "code",
   "execution_count": 5,
   "metadata": {},
   "outputs": [
    {
     "data": {
      "text/plain": [
       "Ethnicity\n",
       "African American    47.682101\n",
       "Asian               44.187833\n",
       "Caucasian           44.521945\n",
       "Name: Income, dtype: float64"
      ]
     },
     "execution_count": 5,
     "metadata": {},
     "output_type": "execute_result"
    }
   ],
   "source": [
    "#CODE to compare the average income based on ethnicity in the dataframe\n",
    "df.groupby('Ethnicity')['Income'].mean()"
   ]
  },
  {
   "cell_type": "code",
   "execution_count": 6,
   "metadata": {},
   "outputs": [
    {
     "name": "stdout",
     "output_type": "stream",
     "text": [
      "The average balance of married people is: 13.39\n",
      "The average balance of single people is: 13.49\n"
     ]
    }
   ],
   "source": [
    "#CODE to check if on average married or single people have a higher balance\n",
    "print(\"The average balance of married people is:\" , round(df[df.Married == \"Yes\"].loc[:,'Balance'].mean(),2))\n",
    "print(\"The average balance of single people is:\" , round(df[df.Married == \"No\"].loc[:, 'Balance'].mean(),2))"
   ]
  },
  {
   "cell_type": "code",
   "execution_count": null,
   "metadata": {},
   "outputs": [],
   "source": [
    "# ANSWER = on average single people have a higher balance"
   ]
  },
  {
   "cell_type": "code",
   "execution_count": 7,
   "metadata": {},
   "outputs": [
    {
     "name": "stdout",
     "output_type": "stream",
     "text": [
      "The Highest income in the dataset is: 186.634\n",
      "The Lowest income in the dataset is: 10.354\n"
     ]
    }
   ],
   "source": [
    "# CODE to obtain the highest and lowest income in dataset\n",
    "print(\"The Highest income in the dataset is:\" , df['Income'].max())\n",
    "print(\"The Lowest income in the dataset is:\" , df['Income'].min())"
   ]
  },
  {
   "cell_type": "code",
   "execution_count": 8,
   "metadata": {
    "scrolled": true
   },
   "outputs": [
    {
     "name": "stdout",
     "output_type": "stream",
     "text": [
      "The total number of cards recorded in the dataset is: 1183\n"
     ]
    }
   ],
   "source": [
    "#CODE to calculate the number of cards recorded in the dataset\n",
    "print(\"The total number of cards recorded in the dataset is:\" , df['Cards'].sum())"
   ]
  },
  {
   "cell_type": "code",
   "execution_count": 11,
   "metadata": {},
   "outputs": [
    {
     "name": "stdout",
     "output_type": "stream",
     "text": [
      "The total information about females is: Balance      207\n",
      "Income       207\n",
      "Limit        207\n",
      "Rating       207\n",
      "Cards        207\n",
      "Age          207\n",
      "Education    207\n",
      "Gender       207\n",
      "Student      207\n",
      "Married      207\n",
      "Ethnicity    207\n",
      "dtype: int64\n",
      " \n",
      "The total information about males is: Balance      193\n",
      "Income       193\n",
      "Limit        193\n",
      "Rating       193\n",
      "Cards        193\n",
      "Age          193\n",
      "Education    193\n",
      "Gender       193\n",
      "Student      193\n",
      "Married      193\n",
      "Ethnicity    193\n",
      "dtype: int64\n"
     ]
    }
   ],
   "source": [
    "#CODE to work out how much information is in the dataset about female vs. male\n",
    "print(\"The total information about females is:\" , df[df['Gender'] == 'Female'].count())\n",
    "print(\" \")\n",
    "print(\"The total information about males is:\" , df[df['Gender'] == 'Male'].count())"
   ]
  },
  {
   "cell_type": "markdown",
   "metadata": {
    "id": "_LXpBJXZLYoh"
   },
   "source": [
    "Write the code needed to produce a report that provides the following information:\n",
    "* Compare the average income based on ethnicity.\n",
    "* On average, do married or single people have a higher balance?\n",
    "* What is the highest income in our dataset?\n",
    "* What is the lowest income in our dataset?\n",
    "* How many cards do we have recorded in our dataset? (Hint: use `sum()`)\n",
    "* How many females do we have information for vs how many males? (Hint: use `count()` for a list of all methods for computation of descriptive stats, explore the [pandas documentation](https://pandas.pydata.org/pandas-docs/stable/reference/frame.html#computations-descriptive-stats)).\n",
    "\n",
    "\n"
   ]
  },
  {
   "cell_type": "raw",
   "metadata": {},
   "source": []
  }
 ],
 "metadata": {
  "colab": {
   "provenance": []
  },
  "kernelspec": {
   "display_name": "Python 3 (ipykernel)",
   "language": "python",
   "name": "python3"
  },
  "language_info": {
   "codemirror_mode": {
    "name": "ipython",
    "version": 3
   },
   "file_extension": ".py",
   "mimetype": "text/x-python",
   "name": "python",
   "nbconvert_exporter": "python",
   "pygments_lexer": "ipython3",
   "version": "3.12.1"
  }
 },
 "nbformat": 4,
 "nbformat_minor": 4
}
