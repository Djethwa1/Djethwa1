{
 "cells": [
  {
   "cell_type": "markdown",
   "metadata": {
    "id": "IBb6nSAY5T4I"
   },
   "source": [
    "# Machine Learning\n",
    "## Compulsory task"
   ]
  },
  {
   "cell_type": "markdown",
   "metadata": {
    "id": "N02Qu9_f1N45"
   },
   "source": [
    "1. For each of the following examples describe at least one possible input and\n",
    "output. Justify your answers:  \n",
    "* 1.1 A self-driving car\n",
    "* 1.2 Netflix recommendation system\n",
    "* 1.3 Signature recognition\n",
    "* 1.4 Medical diagnosis\n"
   ]
  },
  {
   "cell_type": "markdown",
   "metadata": {
    "id": "-8aBqprP3ypo"
   },
   "source": [
    "1. Answer here\n",
    "\n",
    "|      | Input(s)    | Output     |\n",
    "| ---- | ----------- | ---------  |\n",
    "1.1     Inputs- cameras and laser , outputs- acceration  |The car accelerates or decelerates or brakes using data from cameras and laser to maintain a safe distance based on traffic conditions and safety requirements.\n",
    "\n",
    "| 1.2  | Inputs- user ratings and browsing history , outputs - personalised home page with netflix recommentations   |Netflix recommendations help users discover and enjoy content that matches their preferences and taste\n",
    "|\n",
    "| 1.3  |  Inputs - Image of signature, pressure applied by user, User speed when signing , Outputs- Verification decision by machine learning model whether signature is genuine or forged         |  If the input signature matches the reference signature, the signature is genuine and if if it doesn't match then the signature if forged\n",
    "|\n",
    "| 1.4  |  Inputs- Medical history, Signs and symptoms, Lab test results, Scan results  , Outputs - List of conditions that match patients input data and possible diagnosis         |  Machine learning can help improve the accuracy and efficiency of diagnosis process and discover new patterns and insights from the data         |"
   ]
  },
  {
   "cell_type": "markdown",
   "metadata": {
    "id": "l_I2f4C85yNF"
   },
   "source": [
    "\n",
    "2. For each of the following case studies, determine whether it is appropriate to utilise regression or classification machine learning algorithms. Justify your answers:\n",
    "* 2.1 Classifying emails as promotion or social based on their content and metadata.\n",
    "* ANSWER: Use classification algorithm - The output variable is a discrete categorical variable (social/promotional) and not a continuous numerical value.Therefore an algorithm that can find the best fitting rules that separate the emails into different categories is needed.\n",
    "* \n",
    "* 2.2 Forecasting the stock price of a company based on historical data and market trends.\n",
    "* ANSWER: Use a regression algorithm - Regression algorithms can predict continuous quantity output e.g the stock price at any given time.\n",
    "* \n",
    "* 2.3 Sorting images of animals into different species based on their visual features.\n",
    "* ANSWER: Use a classification algorithm - Classification algorithm can predict discrete outputs such as species names\n",
    "* \n",
    "* 2.4 Predicting the likelihood of a patient having a particular disease based on medical history and diagnostic test results.\n",
    "* ANSWER: Use a classification algorithm - The output variable is discrete either Yes/No and not a contionuous quantity."
   ]
  },
  {
   "cell_type": "markdown",
   "metadata": {
    "id": "WgMUsqQr6qFU"
   },
   "source": [
    "2. Answer here\n",
    "* 2.1 see answers above under question\n",
    "* 2.2 see above\n",
    "* 2.3 see above\n",
    "* 2.4 see above"
   ]
  },
  {
   "cell_type": "markdown",
   "metadata": {
    "id": "b6f8UETG64hH"
   },
   "source": [
    "3. For each of the following real-world problems, determine whether it is appropriate to utilise a supervised or unsupervised machine learning algorithm. Justify your answers:\n",
    "* 3.1 Detecting anomalies in a manufacturing process using sensor data without prior knowledge of specific anomaly patterns.\n",
    "* 3.2 Predicting customer lifetime value based on historical transaction data and customer demographics.\n",
    "* 3.3 Segmenting customer demographics based on their purchase history, browsing behaviour, and preferences.\n",
    "* 3.4 Analysing social media posts to categorise them into different themes.\n"
   ]
  },
  {
   "cell_type": "markdown",
   "metadata": {
    "id": "W6dTYBvd675O"
   },
   "source": [
    "3. Answer here\n",
    "* 3.1 Use Unsupervised algorithm - Supervised anomaly detection requires large amounts of data that represents all possible anomaly patterns which may not be feasible to obtain in a real world scenario.\n",
    "* \n",
    "* 3.2 Use either Supervised or Unsupervised algorithm - If the goal is to estimate the exact or approximate value of each customer, then supervised learning would be appropriate as they can leverage historical data and provide quantitative predictions. However, if the goal is to understand the behavior of different types of customers, then Unsupervised learning would be more appropriate as they can reveal the hidden structure and diversity of the data.\n",
    "* \n",
    "* 3.3 Use either Supervised or Unsupervised algorithm - If the goal is to assign customers to predefined segments then supervised learning would be appropriate as they can leverage existing labels and provide accurate predictions. However, if the goal is to explore tha data and find optimal segments based on the features, then unsupervised learning would be more appropriate as they can reveal the hidden structure and diversity of the data.\n",
    "* \n",
    "* 3.4 Use Supervised algorithm - Supervised learning algorithms provide more reliable and accurate results. Unsupervised algorithms can produce less interpretable and less consistent results. Supervised learning algorithms can learn the relationship between text features (eg. words and prases) and their labels and use the knowledge to predict labels for new unseen text doccuments more reliably then unsupervised learning algorithms which have a tendancy to introduce noise and ambiguity into the data. "
   ]
  },
  {
   "cell_type": "markdown",
   "metadata": {
    "id": "bqsun96o64xe"
   },
   "source": [
    "4.\n",
    "For each of the following real-world problems, determine whether it is appropriate to utilise semi-supervised machine learning algorithms. Justify your answers:\n",
    "* 4.1 Predicting fraudulent financial transactions using a dataset where most transactions are labelled as fraudulent or legitimate.\n",
    "* 4.2 Analysing customer satisfaction surveys where only a small portion of the data is labelled with satisfaction ratings.\n",
    "*4.3 Identifying spam emails in a dataset where the majority of emails are labelled.\n",
    "* 4.4 Predicting the probability of default for credit card applicants based on their complete financial and credit-related information.\n"
   ]
  },
  {
   "cell_type": "markdown",
   "metadata": {
    "id": "aTWugZ6q68GF"
   },
   "source": [
    "4. Answer here\n",
    "* 4.1 Semi-supervised algorithms may be appropriate if the unlabelled data is similar to the labelled data in terms of features, patterns and noise levels and not corrupted by inaccurate training data and labelled data is the true distribution of fraudulent and legitimate transactions and biased by labelling errors.\n",
    "* \n",
    "* 4.2 Semi-supervised algoritms may be appropriate if the unlabelled data is similar to the labelled data in terms of features, patterns and noise levels and not corrupted by missing values and the labelled data is representative of the true distribution of customer satisfaction ratings and not biased by labelling errors.\n",
    "* \n",
    "* 4.3 Semi-supervised algorithms can be appropriate for spam email detection as they leverage information from both labelled and unlabelled emails to improve the accuracy of the model. Supervised learning algorithms can reduce the cost of labelling a large number of emails and can also use the unlabelled data to capture the distribution of data to help identify new patterns of spam emails.\n",
    "* \n",
    "* 4.4 Semi-supervised algorithm is not appropriate for credit default predicting as they may introduce bias or overfitting to the model and compromise its performance and reliabilty."
   ]
  }
 ],
 "metadata": {
  "colab": {
   "provenance": []
  },
  "kernelspec": {
   "display_name": "Python 3 (ipykernel)",
   "language": "python",
   "name": "python3"
  },
  "language_info": {
   "codemirror_mode": {
    "name": "ipython",
    "version": 3
   },
   "file_extension": ".py",
   "mimetype": "text/x-python",
   "name": "python",
   "nbconvert_exporter": "python",
   "pygments_lexer": "ipython3",
   "version": "3.12.2"
  }
 },
 "nbformat": 4,
 "nbformat_minor": 4
}
